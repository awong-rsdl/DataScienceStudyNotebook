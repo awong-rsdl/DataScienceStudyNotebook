{
 "cells": [
  {
   "cell_type": "markdown",
   "metadata": {},
   "source": [
    "#### Lession 1 of [Udacity Free Course](https://classroom.udacity.com/courses/ud198)"
   ]
  },
  {
   "cell_type": "markdown",
   "metadata": {},
   "source": [
    "Some of the most popular databases include:\n",
    "1. MySQL\n",
    "2. Access\n",
    "3. Oracle\n",
    "4. Microsoft SQL Server\n",
    "5. Postgres<br>\n",
    "\n",
    "For a comparision of their small difference, check out this [article](https://www.digitalocean.com/community/tutorials/sqlite-vs-mysql-vs-postgresql-a-comparison-of-relational-database-management-systems)<br>\n",
    "<br>\n",
    "**entity relationship diagram (ERD)**: A diagram that shows how data is structured in a database.<br>\n",
    "<br>\n",
    "<img src=\"https://video.udacity-data.com/topher/2017/August/59821d7d_screen-shot-2017-08-02-at-11.14.25-am/screen-shot-2017-08-02-at-11.14.25-am.png\" width=600 /><br>"
   ]
  },
  {
   "cell_type": "markdown",
   "metadata": {},
   "source": [
    "#### STATEMENTS (and pandas counter part)\n",
    "1. CREATE TABLE is a statement that creates a new table in a database. (e.g. pd.DataFrame)\n",
    "2. DROP TABLE is a statement that removes a table in a database. (e.g. df.drop() (not exact match))\n",
    "3. SELECT allows you to read data and display it. This is called a query. indicates which column(s) you want to be given the data for. (e.g. df.loc[]). <br> \n",
    "\n",
    "#### CLAUSES: \n",
    "- SELECT *\n",
    "1. **AS** derived column <br> _,-,*,/<br> e.g. SELECT id, (standard_amt_usd/total_amt_usd)*100 AS std_percent, total_amt_usd\n",
    "1. **FROM** specifies from which table(s) you want to select the columns. Notice the columns need to exist in this table.\n",
    "2. **WHERE** <br> for numeric: >, <, >=, <=, =, != <br> for non-numeric w/ quote: =, !=, LIKE, NOT, or IN <br> use before order by.\n",
    "3. **ORDER BY** sort. default sort by accending, use ORDER BY <Column name> DESC for descending order <br>\n",
    "always comes in a query after the SELECT and FROM statements, but before the LIMIT statement. <br> can order by multiple columns at once.\n",
    "4. **LIMIT** sort data. very last part of a query. e.g. SELECT * FROM orders LIMIT 10;\n",
    "<br>\n",
    "\n",
    "#### Logical Operators: \n",
    "primarily used in **WHERE** <br>\n",
    "1. **LIKE** This allows you to perform operations similar to using WHERE and =, but for cases when you might not know exactly what you are looking for. <br>\n",
    "    wild card '%google%'. **%** character or any number of character.\n",
    "2. **IN** This allows you to perform operations similar to using WHERE and =, but for more than one condition.<br>\n",
    "    WHERE account_id IN (1001, 1021); WHERE name in ('Walmart', 'Target', 'Nordstrom')\n",
    "3. **NOT** This is used with **IN** and **LIKE** to select all of the rows **NOT LIKE** or **NOT IN** a certain condition. <br>\n",
    "    WHERE account_id NOT IN (1001, 1021); NOT LIKE '%google%'\n",
    "4. **AND & BETWEEN** These allow you to combine operations where all combined conditions must be true. <br>\n",
    "    examples:<br>\n",
    "    WHERE column BETWEEN 6 AND 10 <br>\n",
    "    occurred_at BETWEEN '2016-01-01' AND '2017-01-01'<br>\n",
    "5. **OR** This allows you to combine operations where at least one of the combined conditions must be true.\n",
    "    examples:<br>\n",
    "    SELECT *<br>\n",
    "        FROM accounts<br>\n",
    "        WHERE (name LIKE 'C%' OR name LIKE 'W%') <br>\n",
    "                AND ((primary_poc LIKE '%ana%' OR primary_poc LIKE '%Ana%') AND primary_poc NOT LIKE '%eana%');<br>\n"
   ]
  },
  {
   "cell_type": "markdown",
   "metadata": {},
   "source": [
    "#### Recap\n",
    "**Commands**\n",
    "| Statement | How to Use It | Other Details |\n",
    "| --- | --- | --- |\n",
    "| SELECT | SELECT Col1, Col2, ... | Provide the columns you want |\n",
    "| FROM | FROM Table | Provide the table where the columns exist |\n",
    "| LIMIT | LIMIT 10 | Limits based number of rows returned |\n",
    "| ORDER BY | ORDER BY Col | Orders table based on the column. Used with DESC. |\n",
    "| WHERE | WHERE Col > 5 | A conditional statement to filter your results |\n",
    "| LIKE | WHERE Col LIKE '%me%' | Only pulls rows where column has 'me' within the text |\n",
    "| IN | WHERE Col IN ('Y', 'N') | A filter for only rows with column of 'Y' or 'N' |\n",
    "| NOT | WHERE Col NOT IN ('Y', 'N') | NOT is frequently used with LIKE and IN |\n",
    "| AND | WHERE Col1 > 5 AND Col2 < 3 | Filter rows where two or more conditions must be true< |\n",
    "| OR | WHERE Col1 > 5 OR Col2 < 3 | Filter rows where at least one condition must be true |\n",
    "| BETWEEN | WHERE Col BETWEEN 3 AND 5 | Often easier syntax than using an AND |"
   ]
  }
 ],
 "metadata": {
  "interpreter": {
   "hash": "bbefdcaa4cb22f8874781a431fad16ca19a1a5901d75fd2282861e0b074b9d7b"
  },
  "kernelspec": {
   "display_name": "Python 3.9.0 ('rsdl-tf')",
   "language": "python",
   "name": "python3"
  },
  "language_info": {
   "codemirror_mode": {
    "name": "ipython",
    "version": 3
   },
   "file_extension": ".py",
   "mimetype": "text/x-python",
   "name": "python",
   "nbconvert_exporter": "python",
   "pygments_lexer": "ipython3",
   "version": "3.9.0"
  },
  "orig_nbformat": 4
 },
 "nbformat": 4,
 "nbformat_minor": 2
}
