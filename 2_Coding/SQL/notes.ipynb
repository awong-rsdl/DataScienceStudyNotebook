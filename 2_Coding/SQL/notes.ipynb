{
 "cells": [
  {
   "cell_type": "markdown",
   "metadata": {},
   "source": [
    "#### Resources\n",
    "1. [Take Udacity Free SQL Course](https://www.udacity.com/course/sql-for-data-analysis--ud198)\n",
    "2. [Rveiew SQL from tutorial](https://www.w3schools.com/sql/)\n",
    "3. [Solve SQL Challenge on leetcode](https://leetcode.com/study-plan/sql/)\n",
    "4. [Solve SQL Challenge and get certified on HankeRank](https://www.hackerrank.com/domains/sql)\n",
    "\n",
    "#### Remember...\n",
    "1. JOIN is faster than subquery\n",
    "2. Count Distinct\n",
    "3. WHERE\n",
    "4. Group By\n",
    "5. Having\n",
    "6. Windowing function"
   ]
  },
  {
   "cell_type": "markdown",
   "metadata": {},
   "source": [
    "# title\n",
    "## major headings\n",
    "### subheadings\n",
    "#### 4th level subheadings\n",
    "**Bold** *Italic*\n",
    "$ E=mc^2 $<br>\n",
    "'single space paragraph'<br>\n",
    "> indented quoting\n",
    "- bullet point\n",
    "1. One, Two<br>\n",
    "***unnderscore***<br>\n",
    "? [](#internal_link)<br>\n",
    "[link text](https://ingeh.medium.com/markdown-for-jupyter-notebooks-cheatsheet-386c05aeebed)<br>\n"
   ]
  }
 ],
 "metadata": {
  "language_info": {
   "name": "python"
  },
  "orig_nbformat": 4
 },
 "nbformat": 4,
 "nbformat_minor": 2
}
