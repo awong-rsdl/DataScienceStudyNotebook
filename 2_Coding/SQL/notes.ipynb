{
 "cells": [
  {
   "cell_type": "markdown",
   "metadata": {},
   "source": [
    "# title\n",
    "## major headings\n",
    "### subheadings\n",
    "#### 4th level subheadings\n",
    "**Bold** *Italic*\n",
    "$ E=mc^2 $<br>\n",
    "'single space paragraph'<br>\n",
    "> indented quoting\n",
    "- bullet point\n",
    "1. One, Two<br>\n",
    "***unnderscore***<br>\n",
    "? [](#internal_link)<br>\n",
    "[link text](https://ingeh.medium.com/markdown-for-jupyter-notebooks-cheatsheet-386c05aeebed)<br>\n"
   ]
  },
  {
   "cell_type": "markdown",
   "metadata": {},
   "source": [
    "[Udacity Free Course](https://www.udacity.com/course/sql-for-data-analysis--ud198)\n",
    "1. JOIN is faster than subquery\n",
    "2. Count Distinct\n",
    "3. Where\n",
    "4. Group By\n",
    "5. Having\n",
    "6. Windowing function\n",
    "[SQL tutorial](https://www.w3schools.com/sql/)\n",
    "leetcode, hankerank"
   ]
  },
  {
   "cell_type": "markdown",
   "metadata": {},
   "source": []
  }
 ],
 "metadata": {
  "language_info": {
   "name": "python"
  },
  "orig_nbformat": 4
 },
 "nbformat": 4,
 "nbformat_minor": 2
}
