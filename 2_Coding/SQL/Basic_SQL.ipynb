{
 "cells": [
  {
   "cell_type": "markdown",
   "metadata": {},
   "source": [
    "#### Lession 1 of [Udacity Free Course](https://classroom.udacity.com/courses/ud198)"
   ]
  },
  {
   "cell_type": "markdown",
   "metadata": {},
   "source": [
    "Some of the most popular databases include:\n",
    "1. MySQL\n",
    "2. Access\n",
    "3. Oracle\n",
    "4. Microsoft SQL Server\n",
    "5. Postgres<br>\n",
    "\n",
    "For a comparision of their small difference, check out this [article](https://www.digitalocean.com/community/tutorials/sqlite-vs-mysql-vs-postgresql-a-comparison-of-relational-database-management-systems)<br>\n",
    "<br>\n",
    "**entity relationship diagram (ERD)**: A diagram that shows how data is structured in a database.<br>\n",
    "<br>\n",
    "<img src=\"https://video.udacity-data.com/topher/2017/August/59821d7d_screen-shot-2017-08-02-at-11.14.25-am/screen-shot-2017-08-02-at-11.14.25-am.png\" width=600 /><br>"
   ]
  },
  {
   "cell_type": "markdown",
   "metadata": {},
   "source": [
    "#### STATEMENTS (and pandas counter part)\n",
    "1. CREATE TABLE is a statement that creates a new table in a database. (e.g. pd.DataFrame)\n",
    "2. DROP TABLE is a statement that removes a table in a database. (e.g. df.drop() (not exact match))\n",
    "3. SELECT allows you to read data and display it. This is called a query. indicates which column(s) you want to be given the data for. (e.g. df.loc[]). <br> \n",
    "\n",
    "#### CLAUSES: \n",
    "- SELECT *\n",
    "1. **FROM** specifies from which table(s) you want to select the columns. Notice the columns need to exist in this table.\n",
    "2. **ORDER BY** sort. default sort by accending, use ORDER BY <Column name> DESC for descending order <br>\n",
    "always comes in a query after the SELECT and FROM statements, but before the LIMIT statement. \n",
    "3. **LIMIT** sort data. very last part of a query. e.g. SELECT * FROM orders LIMIT 10;\n",
    "<br>\n"
   ]
  },
  {
   "cell_type": "code",
   "execution_count": null,
   "metadata": {},
   "outputs": [],
   "source": [
    "# Setting up package\n",
    "# !pip install psycopg2\n",
    "# !pip install pygresql"
   ]
  },
  {
   "cell_type": "code",
   "execution_count": null,
   "metadata": {},
   "outputs": [],
   "source": [
    "# Setting up the Parch & Posey database\n",
    "# $ createdb parch\n",
    "# $ psql parch < parch_and_posey.sql"
   ]
  },
  {
   "cell_type": "code",
   "execution_count": null,
   "metadata": {},
   "outputs": [],
   "source": [
    "# examples: \n",
    "# SELECT id, account_id, total_amt_usd\n",
    "# FROM orders\n",
    "# ORDER BY total_amt_usd DESC \n",
    "# LIMIT 5;"
   ]
  },
  {
   "cell_type": "markdown",
   "metadata": {},
   "source": []
  }
 ],
 "metadata": {
  "interpreter": {
   "hash": "bbefdcaa4cb22f8874781a431fad16ca19a1a5901d75fd2282861e0b074b9d7b"
  },
  "kernelspec": {
   "display_name": "Python 3.9.0 ('rsdl-tf')",
   "language": "python",
   "name": "python3"
  },
  "language_info": {
   "codemirror_mode": {
    "name": "ipython",
    "version": 3
   },
   "file_extension": ".py",
   "mimetype": "text/x-python",
   "name": "python",
   "nbconvert_exporter": "python",
   "pygments_lexer": "ipython3",
   "version": "3.9.0"
  },
  "orig_nbformat": 4
 },
 "nbformat": 4,
 "nbformat_minor": 2
}
