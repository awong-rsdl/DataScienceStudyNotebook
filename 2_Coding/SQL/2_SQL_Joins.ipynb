{
 "cells": [
  {
   "cell_type": "markdown",
   "metadata": {},
   "source": [
    "#### Lession 2 of [Udacity Free Course](https://classroom.udacity.com/courses/ud198)"
   ]
  },
  {
   "cell_type": "markdown",
   "metadata": {},
   "source": [
    "#### Database Normalization\n",
    "There are essentially three ideas that are aimed at database normalization:\n",
    "1. Are the tables storing logical groupings of the data?\n",
    "2. Can I make changes in a single location, rather than in many tables for the same information?\n",
    "3. Can I access and manipulate data quickly and efficiently?<br>\n",
    "To learn more, read [SQL by Design](https://www.itprotoday.com/sql-server/sql-design-why-you-need-database-normalization)\n",
    "\n",
    "#### JOIN\n",
    "**examples**<br>\n",
    "<br>\n",
    "SELECT orders.*, accounts.*<br>\n",
    "FROM demo.orders<br>\n",
    "JOIN demo.accounts<br>\n",
    "ON orders.account_id = accounts.id<br>\n",
    "<br>\n",
    "SELECT web_events.channel, accounts.name, orders.total<br>\n",
    "FROM web_events<br>\n",
    "JOIN accounts<br>\n",
    "ON web_events.account_id = accounts.id<br>\n",
    "JOIN orders<br>\n",
    "ON accounts.id = orders.account_id<br>\n",
    "<br>\n",
    "**NOTE**: ALWAYs have the PK equal to the FK! But, when joining multiple table that might not be necessary<br>\n",
    "<br>\n",
    "**Trick:**<br>\n",
    "1. Alias: FROM tablename AS t1 JOIN tablename2 AS t2, or FROM tablename t1 JOIN tablename2 t2\n",
    "\n",
    "**entity relationship diagram (ERD)**: A diagram that shows how data is structured in a database.<br>\n",
    "**PK** here stands for primary key. A primary key exists in every table, and it is a column that has a unique value for every row. Generally, only one exist in each table, but some database might not enforce this.<br>\n",
    "**FK**:A foreign key is a column in one table that is a primary key in a different table.<br>\n",
    "<br>\n",
    "<img src=\"https://video.udacity-data.com/topher/2017/August/59821d7d_screen-shot-2017-08-02-at-11.14.25-am/screen-shot-2017-08-02-at-11.14.25-am.png\" width=600 /><br>\n"
   ]
  },
  {
   "cell_type": "markdown",
   "metadata": {},
   "source": [
    "#### Recap\n",
    "**Commands**\n",
    "| Statement | How to Use It | Other Details |\n",
    "| --- | --- | --- |\n",
    "| SELECT | SELECT Col1, Col2, ... | Provide the columns you want |\n",
    "| FROM | FROM Table | Provide the table where the columns exist |\n",
    "| LIMIT | LIMIT 10 | Limits based number of rows returned |\n",
    "| ORDER BY | ORDER BY Col | Orders table based on the column. Used with DESC. |\n",
    "| WHERE | WHERE Col > 5 | A conditional statement to filter your results |\n",
    "| LIKE | WHERE Col LIKE '%me%' | Only pulls rows where column has 'me' within the text |\n",
    "| IN | WHERE Col IN ('Y', 'N') | A filter for only rows with column of 'Y' or 'N' |\n",
    "| NOT | WHERE Col NOT IN ('Y', 'N') | NOT is frequently used with LIKE and IN |\n",
    "| AND | WHERE Col1 > 5 AND Col2 < 3 | Filter rows where two or more conditions must be true< |\n",
    "| OR | WHERE Col1 > 5 OR Col2 < 3 | Filter rows where at least one condition must be true |\n",
    "| BETWEEN | WHERE Col BETWEEN 3 AND 5 | Often easier syntax than using an AND |"
   ]
  }
 ],
 "metadata": {
  "interpreter": {
   "hash": "bbefdcaa4cb22f8874781a431fad16ca19a1a5901d75fd2282861e0b074b9d7b"
  },
  "kernelspec": {
   "display_name": "Python 3.9.0 ('rsdl-tf')",
   "language": "python",
   "name": "python3"
  },
  "language_info": {
   "codemirror_mode": {
    "name": "ipython",
    "version": 3
   },
   "file_extension": ".py",
   "mimetype": "text/x-python",
   "name": "python",
   "nbconvert_exporter": "python",
   "pygments_lexer": "ipython3",
   "version": "3.9.0"
  },
  "orig_nbformat": 4
 },
 "nbformat": 4,
 "nbformat_minor": 2
}
