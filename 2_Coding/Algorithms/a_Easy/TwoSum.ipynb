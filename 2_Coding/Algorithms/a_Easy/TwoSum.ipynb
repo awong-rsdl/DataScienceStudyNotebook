{
 "cells": [
  {
   "cell_type": "markdown",
   "metadata": {},
   "source": [
    "Given an array of integers nums and an integer target, return indices of the two numbers such that they add up to target.\n",
    "\n",
    "You may assume that each input would have exactly one solution, and you may not use the same element twice.\n",
    "\n",
    "You can return the answer in any order.\n",
    "\n",
    "Example 1:\n",
    "Input: nums = [2,7,11,15], target = 9\n",
    "Output: [0,1]\n",
    "Explanation: Because nums[0] + nums[1] == 9, we return [0, 1].\n",
    "\n",
    "Example 2:\n",
    "Input: nums = [3,2,4], target = 6\n",
    "Output: [1,2]\n",
    "\n",
    "Example 3:\n",
    "Input: nums = [3,3], target = 6\n",
    "Output: [0,1]\n",
    "\n",
    "Constraints:\n",
    "1. 2 <= nums.length <= 104\n",
    "2. -109 <= nums[i] <= 109\n",
    "3. -109 <= target <= 109\n",
    "4. Only one valid answer exists\n",
    "\n",
    "Follow-up: Can you come up with an algorithm that is less than O(n2) time complexity?\n"
   ]
  },
  {
   "cell_type": "code",
   "execution_count": null,
   "metadata": {},
   "outputs": [],
   "source": [
    "class Solution:\n",
    "    def twoSum(self, nums: List[int], target: int) -> List[int]:\n",
    "        # 1. base solution:\n",
    "        # loop through nums (unsorted), compute target num, \n",
    "        # check if it exist in list, if its index not identical to first num, return\n",
    "        # for i, val1 in enumerate(nums):\n",
    "        #     lookup_val = target-val1\n",
    "        #     # print(val1, lookup_val)\n",
    "        #     if lookup_val in nums:\n",
    "        #         if nums.index(lookup_val)!=i:\n",
    "        #             return([i, nums.index(lookup_val)])\n",
    "        # 2. solution with map (memory):\n",
    "        # loop through nums (sunsorted), compute target num\n",
    "        # if target num exist in map, return paris\n",
    "        # if not, add current num to map, eventually you will find one num in map \n",
    "        # that pair with current value, compare to base solution, the lookup map is smaller.\n",
    "        map_dict = {}\n",
    "        for i, val1 in enumerate(nums):\n",
    "            lookup_val = target-val1\n",
    "            if lookup_val in map_dict.keys():\n",
    "                return([map_dict[lookup_val], i])\n",
    "            else:\n",
    "                map_dict[val1]=i\n",
    "        "
   ]
  },
  {
   "cell_type": "markdown",
   "metadata": {},
   "source": []
  }
 ],
 "metadata": {
  "kernelspec": {
   "display_name": "Python 3.9.7 ('base')",
   "language": "python",
   "name": "python3"
  },
  "language_info": {
   "name": "python",
   "version": "3.9.7"
  },
  "orig_nbformat": 4,
  "vscode": {
   "interpreter": {
    "hash": "6cc730a71a11ab5a27eac7568de26af36895eb694d4791148a12888f6ab1cb17"
   }
  }
 },
 "nbformat": 4,
 "nbformat_minor": 2
}
