{
 "cells": [
  {
   "cell_type": "markdown",
   "metadata": {},
   "source": [
    "1. Bayesian\n",
    "Bayesian for hackers (python)\n",
    "Coursera Graphical Model\n",
    "A first course in Bayes"
   ]
  },
  {
   "cell_type": "markdown",
   "metadata": {},
   "source": []
  },
  {
   "cell_type": "markdown",
   "metadata": {},
   "source": [
    "# title\n",
    "## major headings\n",
    "### subheadings\n",
    "#### 4th level subheadings\n",
    "**Bold** *Italic*\n",
    "$ E=mc^2 $<br>\n",
    "'single space paragraph'<br>\n",
    "> indented quoting\n",
    "- bullet point\n",
    "1. One, Two<br>\n",
    "***unnderscore***<br>\n",
    "? [](#internal_link)<br>\n",
    "[link text](https://ingeh.medium.com/markdown-for-jupyter-notebooks-cheatsheet-386c05aeebed)<br>\n"
   ]
  }
 ],
 "metadata": {
  "language_info": {
   "name": "python"
  },
  "orig_nbformat": 4
 },
 "nbformat": 4,
 "nbformat_minor": 2
}
