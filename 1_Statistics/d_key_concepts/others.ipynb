{
 "cells": [
  {
   "cell_type": "code",
   "execution_count": null,
   "metadata": {},
   "outputs": [],
   "source": [
    "1. point/interval estimation\n",
    "2. clt, delta method, derive coef and var(coef)\n",
    "3. glm (lm, logistic regression, anova): assumptions, model selection and validation, diagnostics, remedy\n",
    "4. Time series: forecast\n",
    "5. logitudinal, mixed model\n",
    "6. obsevational study vs designed experiment\n",
    "7. chisquare test\n",
    "8. Linear programming: https://www.math.ucla.edu/~tom/LP.pdf\n",
    "9. convex opt.\n",
    "10. game theory"
   ]
  },
  {
   "cell_type": "markdown",
   "metadata": {},
   "source": [
    "# title\n",
    "## major headings\n",
    "### subheadings\n",
    "#### 4th level subheadings\n",
    "**Bold** *Italic*\n",
    "$ E=mc^2 $<br>\n",
    "'single space paragraph'<br>\n",
    "> indented quoting\n",
    "- bullet point\n",
    "1. One, Two<br>\n",
    "***unnderscore***<br>\n",
    "? [](#internal_link)<br>\n",
    "[link text](https://ingeh.medium.com/markdown-for-jupyter-notebooks-cheatsheet-386c05aeebed)<br>\n"
   ]
  },
  {
   "cell_type": "markdown",
   "metadata": {},
   "source": []
  }
 ],
 "metadata": {
  "interpreter": {
   "hash": "6cc730a71a11ab5a27eac7568de26af36895eb694d4791148a12888f6ab1cb17"
  },
  "kernelspec": {
   "display_name": "Python 3.9.7 ('base')",
   "language": "python",
   "name": "python3"
  },
  "language_info": {
   "name": "python",
   "version": "3.9.7"
  },
  "orig_nbformat": 4
 },
 "nbformat": 4,
 "nbformat_minor": 2
}
