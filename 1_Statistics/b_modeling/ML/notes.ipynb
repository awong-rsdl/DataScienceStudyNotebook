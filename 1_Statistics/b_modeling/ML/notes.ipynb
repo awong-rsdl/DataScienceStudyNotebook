{
 "cells": [
  {
   "cell_type": "markdown",
   "metadata": {},
   "source": [
    "# title\n",
    "## major headings\n",
    "### subheadings\n",
    "#### 4th level subheadings\n",
    "**Bold** *Italic*\n",
    "$ E=mc^2 $<br>\n",
    "'single space paragraph'<br>\n",
    "> indented quoting\n",
    "- bullet point\n",
    "1. One, Two<br>\n",
    "***unnderscore***<br>\n",
    "? [](#internal_link)<br>\n",
    "[link text](https://ingeh.medium.com/markdown-for-jupyter-notebooks-cheatsheet-386c05aeebed)<br>\n"
   ]
  },
  {
   "cell_type": "markdown",
   "metadata": {},
   "source": [
    "#### ML\n",
    "**ML** algorithm is the process that uncovers the underlying relationship within the data. <br>\n",
    "**machine learning model** can be considered as a function F, which outputs certain results, when given the input.<br>\n",
    "The task of **machine learning**, is to learn the function, from the vast mapping space. <br>\n",
    "\n",
    "#### supervised vs unsupervised\n",
    "In **supervised** learning, the data sample would contain target attribute y (ground truth). And the ML task is to learn a function F, that takes the non-target attributes X and output a value that approximates the target attribute y.<br>\n",
    "In **unsupervised** learning, ground truth is not used to ML task. Examples approaches include, but not limited to, clustering and association.<br>\n",
    "- **clustering**: given a data set, one can cluster the samples into groups, based on the similarities among the samples within the data set.<br>\n",
    "- **Association**: uncover the hidden association patterns among the attributes of a sample. <br>\n",
    "**semi-supervised learning**: could be advantageous in cases when there is a large dataset with few labels. An example strategy is to first cluster the images into groups (unsupervised learning), and then apply the supervised learning algorithm on each of the groups individually. The unsupervised learning in the first stage could help us to narrow down the scope of learning so that the supervised learning in the second stage could obtain better accuracy.\n",
    "\n",
    "#### Classification vs regression\n",
    "ML models can be distinguished based on the type of output values into classification vs regression.\n",
    "**classification** if model output is discret. e.g. F(M[H][W])=1∣0,where M[i][j]∈[0,255],0<i<H,0<j<W\n",
    "**regression** if output is continous. e.g. F(T)=p,where p∈R\n",
    "Given a real-world problem, one may transform a classification problem to a regression problem, and vice versa. For example, **Logistic Regression**, which gives continuous probability values as output, but it is served to solve the classification problem.\n",
    "\n",
    "#### Other terms\n",
    "- the raw data that we have is not all numeric, but certain of them are **categorical**.\n",
    "- the elements/inputs are also called **features**.\n",
    "- many model does not support categorical data, more often one has to **transform** those non-numeric features into numeric one way or another.\n",
    "\n",
    "\n",
    "\n",
    "\n",
    "\n"
   ]
  },
  {
   "cell_type": "markdown",
   "metadata": {},
   "source": [
    "#### source\n",
    "[leetcode: Basic Concepts in ML](https://leetcode.com/explore/learn/card/machine-learning-101/287/what_is_ml/) <br>\n"
   ]
  },
  {
   "cell_type": "markdown",
   "metadata": {},
   "source": []
  },
  {
   "cell_type": "markdown",
   "metadata": {},
   "source": [
    "precision; recall; F1 score; loss function"
   ]
  }
 ],
 "metadata": {
  "language_info": {
   "name": "python"
  },
  "orig_nbformat": 4
 },
 "nbformat": 4,
 "nbformat_minor": 2
}
